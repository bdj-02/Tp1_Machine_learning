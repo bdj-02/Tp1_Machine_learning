{
 "cells": [
  {
   "cell_type": "markdown",
   "metadata": {},
   "source": [
    "# Importation des librairies"
   ]
  },
  {
   "cell_type": "code",
   "execution_count": 7,
   "metadata": {},
   "outputs": [],
   "source": [
    "import pandas as pd\n",
    "from sklearn import metrics\n",
    "from sklearn.model_selection import train_test_split\n",
    "from sklearn.feature_extraction.text import CountVectorizer\n",
    "from sklearn.svm import LinearSVC\n",
    "from sklearn.naive_bayes import MultinomialNB\n",
    "from sklearn.linear_model import LogisticRegression\n",
    "from sklearn.neighbors import KNeighborsClassifier\n",
    "import matplotlib.pyplot as plt\n",
    "from sklearn.metrics import confusion_matrix, ConfusionMatrixDisplay"
   ]
  },
  {
   "cell_type": "markdown",
   "metadata": {},
   "source": [
    "# Importation des données"
   ]
  },
  {
   "cell_type": "code",
   "execution_count": 8,
   "metadata": {},
   "outputs": [
    {
     "name": "stdout",
     "output_type": "stream",
     "text": [
      "I went and saw this movie last night after being coaxed to by a few friends of mine. I'll admit that I was reluctant to see it because from what I knew of Ashton Kutcher he was only able to do comedy. I was wrong. Kutcher played the character of Jake Fischer very well, and Kevin Costner played Ben Randall with such professionalism. The sign of a good movie is that it can toy with our emotions. This one did exactly that. The entire theater (which was sold out) was overcome by laughter during the first half of the movie, and were moved to tears during the second half. While exiting the theater I not only saw many women in tears, but many full grown men as well, trying desperately not to let anyone see them crying. This movie was great, and I suggest that you go see it before you judge.\n"
     ]
    }
   ],
   "source": [
    "positif_value = pd.read_pickle(r'data/imdb_raw_pos.pickle')\n",
    "print(positif_value[0])"
   ]
  },
  {
   "cell_type": "code",
   "execution_count": 9,
   "metadata": {},
   "outputs": [
    {
     "name": "stdout",
     "output_type": "stream",
     "text": [
      "Once again Mr. Costner has dragged out a movie for far longer than necessary. Aside from the terrific sea rescue sequences, of which there are very few I just did not care about any of the characters. Most of us have ghosts in the closet, and Costner's character are realized early on, and then forgotten until much later, by which time I did not care. The character we should really care about is a very cocky, overconfident Ashton Kutcher. The problem is he comes off as kid who thinks he's better than anyone else around him and shows no signs of a cluttered closet. His only obstacle appears to be winning over Costner. Finally when we are well past the half way point of this stinker, Costner tells us all about Kutcher's ghosts. We are told why Kutcher is driven to be the best with no prior inkling or foreshadowing. No magic here, it was all I could do to keep from turning it off an hour in.\n"
     ]
    }
   ],
   "source": [
    "negatif_value = pd.read_pickle(r'data/imdb_raw_neg.pickle')\n",
    "print(negatif_value[0])"
   ]
  },
  {
   "cell_type": "code",
   "execution_count": 10,
   "metadata": {},
   "outputs": [
    {
     "name": "stdout",
     "output_type": "stream",
     "text": [
      "Nombre de commentaires 12500\n",
      "Nombre de commentaires 12500\n"
     ]
    }
   ],
   "source": [
    "print('Nombre de commentaires', len(positif_value))\n",
    "print('Nombre de commentaires', len(negatif_value))"
   ]
  },
  {
   "cell_type": "code",
   "execution_count": 11,
   "metadata": {},
   "outputs": [],
   "source": [
    "pos_value = {'Critiques': positif_value}\n",
    "neg_value = {'Critiques': negatif_value}"
   ]
  },
  {
   "cell_type": "markdown",
   "metadata": {},
   "source": [
    "## Create pandas dataframe"
   ]
  },
  {
   "cell_type": "code",
   "execution_count": 12,
   "metadata": {},
   "outputs": [],
   "source": [
    "# Creation de la DataFrame avec Pandas.\n",
    "dataframe1 = pd.DataFrame(pos_value)\n",
    "dataframe1['Sentiment'] = 'positif'\n",
    "dataframe1['Reponse'] = 1\n",
    "dataframe2 = pd.DataFrame(neg_value)\n",
    "dataframe2['Sentiment'] = 'Negatif'\n",
    "dataframe2['Reponse'] = 0"
   ]
  },
  {
   "cell_type": "code",
   "execution_count": 13,
   "metadata": {},
   "outputs": [
    {
     "data": {
      "text/html": [
       "<div>\n",
       "<style scoped>\n",
       "    .dataframe tbody tr th:only-of-type {\n",
       "        vertical-align: middle;\n",
       "    }\n",
       "\n",
       "    .dataframe tbody tr th {\n",
       "        vertical-align: top;\n",
       "    }\n",
       "\n",
       "    .dataframe thead th {\n",
       "        text-align: right;\n",
       "    }\n",
       "</style>\n",
       "<table border=\"1\" class=\"dataframe\">\n",
       "  <thead>\n",
       "    <tr style=\"text-align: right;\">\n",
       "      <th></th>\n",
       "      <th>Critiques</th>\n",
       "      <th>Sentiment</th>\n",
       "      <th>Reponse</th>\n",
       "    </tr>\n",
       "  </thead>\n",
       "  <tbody>\n",
       "    <tr>\n",
       "      <th>0</th>\n",
       "      <td>I went and saw this movie last night after bei...</td>\n",
       "      <td>positif</td>\n",
       "      <td>1</td>\n",
       "    </tr>\n",
       "    <tr>\n",
       "      <th>1</th>\n",
       "      <td>Actor turned director Bill Paxton follows up h...</td>\n",
       "      <td>positif</td>\n",
       "      <td>1</td>\n",
       "    </tr>\n",
       "    <tr>\n",
       "      <th>2</th>\n",
       "      <td>As a recreational golfer with some knowledge o...</td>\n",
       "      <td>positif</td>\n",
       "      <td>1</td>\n",
       "    </tr>\n",
       "    <tr>\n",
       "      <th>3</th>\n",
       "      <td>I saw this film in a sneak preview, and it is ...</td>\n",
       "      <td>positif</td>\n",
       "      <td>1</td>\n",
       "    </tr>\n",
       "    <tr>\n",
       "      <th>4</th>\n",
       "      <td>Bill Paxton has taken the true story of the 19...</td>\n",
       "      <td>positif</td>\n",
       "      <td>1</td>\n",
       "    </tr>\n",
       "    <tr>\n",
       "      <th>...</th>\n",
       "      <td>...</td>\n",
       "      <td>...</td>\n",
       "      <td>...</td>\n",
       "    </tr>\n",
       "    <tr>\n",
       "      <th>12495</th>\n",
       "      <td>I occasionally let my kids watch this garbage ...</td>\n",
       "      <td>Negatif</td>\n",
       "      <td>0</td>\n",
       "    </tr>\n",
       "    <tr>\n",
       "      <th>12496</th>\n",
       "      <td>When all we have anymore is pretty much realit...</td>\n",
       "      <td>Negatif</td>\n",
       "      <td>0</td>\n",
       "    </tr>\n",
       "    <tr>\n",
       "      <th>12497</th>\n",
       "      <td>The basic genre is a thriller intercut with an...</td>\n",
       "      <td>Negatif</td>\n",
       "      <td>0</td>\n",
       "    </tr>\n",
       "    <tr>\n",
       "      <th>12498</th>\n",
       "      <td>Four things intrigued me as to this film - fir...</td>\n",
       "      <td>Negatif</td>\n",
       "      <td>0</td>\n",
       "    </tr>\n",
       "    <tr>\n",
       "      <th>12499</th>\n",
       "      <td>David Bryce's comments nearby are exceptionall...</td>\n",
       "      <td>Negatif</td>\n",
       "      <td>0</td>\n",
       "    </tr>\n",
       "  </tbody>\n",
       "</table>\n",
       "<p>25000 rows × 3 columns</p>\n",
       "</div>"
      ],
      "text/plain": [
       "                                               Critiques Sentiment  Reponse\n",
       "0      I went and saw this movie last night after bei...   positif        1\n",
       "1      Actor turned director Bill Paxton follows up h...   positif        1\n",
       "2      As a recreational golfer with some knowledge o...   positif        1\n",
       "3      I saw this film in a sneak preview, and it is ...   positif        1\n",
       "4      Bill Paxton has taken the true story of the 19...   positif        1\n",
       "...                                                  ...       ...      ...\n",
       "12495  I occasionally let my kids watch this garbage ...   Negatif        0\n",
       "12496  When all we have anymore is pretty much realit...   Negatif        0\n",
       "12497  The basic genre is a thriller intercut with an...   Negatif        0\n",
       "12498  Four things intrigued me as to this film - fir...   Negatif        0\n",
       "12499  David Bryce's comments nearby are exceptionall...   Negatif        0\n",
       "\n",
       "[25000 rows x 3 columns]"
      ]
     },
     "execution_count": 13,
     "metadata": {},
     "output_type": "execute_result"
    }
   ],
   "source": [
    "### Concaténation de la donnée sous forme de tableau\n",
    "data = pd.concat([dataframe1, dataframe2])\n",
    "data"
   ]
  },
  {
   "cell_type": "markdown",
   "metadata": {},
   "source": [
    "## Stumble DATA\n"
   ]
  },
  {
   "cell_type": "code",
   "execution_count": 14,
   "metadata": {},
   "outputs": [
    {
     "name": "stdout",
     "output_type": "stream",
     "text": [
      "                                           Critiques Sentiment  Reponse\n",
      "0  There are few films that deal with things that...   positif        1\n",
      "1  An American Werewolf in London had some funny ...   Negatif        0\n",
      "2  Rowan Atkinson's Mr. Bean ranks right up there...   positif        1\n",
      "3  When you think 'Oliver Stone' the movies that ...   positif        1\n",
      "4  If you are looking for an erotic masterpiece t...   positif        1\n",
      "5  All Boris Karloff fans will love this classic ...   positif        1\n",
      "6  The story of Ed Gein is interesting, VERY inte...   Negatif        0\n",
      "7  If you value your freedom!<br /><br />I first ...   positif        1\n",
      "8  Just in case the title didn't give it away - t...   Negatif        0\n",
      "9  Assault on Precinct 13: 3/10: Let us forget fo...   Negatif        0\n"
     ]
    }
   ],
   "source": [
    "# STUMBLE DATA\n",
    "stumb = data.sample(frac=1).reset_index()\n",
    "stumb = stumb.drop(['index'], axis=1)\n",
    "print(stumb.head(10))"
   ]
  },
  {
   "cell_type": "code",
   "execution_count": 15,
   "metadata": {},
   "outputs": [],
   "source": [
    "X = stumb.Critiques\n",
    "y = stumb.Reponse"
   ]
  },
  {
   "cell_type": "code",
   "execution_count": 16,
   "metadata": {},
   "outputs": [
    {
     "data": {
      "text/plain": [
       "0    There are few films that deal with things that...\n",
       "1    An American Werewolf in London had some funny ...\n",
       "Name: Critiques, dtype: object"
      ]
     },
     "execution_count": 16,
     "metadata": {},
     "output_type": "execute_result"
    }
   ],
   "source": [
    "X[:2]"
   ]
  },
  {
   "cell_type": "code",
   "execution_count": 17,
   "metadata": {},
   "outputs": [
    {
     "data": {
      "text/plain": [
       "0    1\n",
       "1    0\n",
       "Name: Reponse, dtype: int64"
      ]
     },
     "execution_count": 17,
     "metadata": {},
     "output_type": "execute_result"
    }
   ],
   "source": [
    "y[:2]"
   ]
  },
  {
   "cell_type": "markdown",
   "metadata": {},
   "source": [
    "# SPLIT DATA"
   ]
  },
  {
   "cell_type": "code",
   "execution_count": 18,
   "metadata": {},
   "outputs": [],
   "source": [
    "X_train, X_test, y_train, y_test = train_test_split(X,y,random_state=1, test_size= 0.2)"
   ]
  },
  {
   "cell_type": "code",
   "execution_count": 19,
   "metadata": {},
   "outputs": [
    {
     "name": "stdout",
     "output_type": "stream",
     "text": [
      "longuer de X train : 20000\n",
      "longuer de y train : 20000\n",
      "longuer de X test : 5000\n",
      "longuer de y test : 5000\n"
     ]
    }
   ],
   "source": [
    "print('longuer de X train :', len(X_train))\n",
    "print('longuer de y train :', len(y_train))\n",
    "print('longuer de X test :', len(X_test))\n",
    "print('longuer de y test :', len(y_test))"
   ]
  },
  {
   "cell_type": "markdown",
   "metadata": {},
   "source": [
    "# VECTORISATION\n",
    "\n",
    "- transfromation des données cathegorielles en quantitafives"
   ]
  },
  {
   "cell_type": "code",
   "execution_count": 20,
   "metadata": {},
   "outputs": [],
   "source": [
    "vector = CountVectorizer(stop_words='english', ngram_range = (1,1), max_df = .80, min_df = 4)"
   ]
  },
  {
   "cell_type": "code",
   "execution_count": 21,
   "metadata": {},
   "outputs": [
    {
     "data": {
      "text/plain": [
       "CountVectorizer(max_df=0.8, min_df=4, stop_words='english')"
      ]
     },
     "execution_count": 21,
     "metadata": {},
     "output_type": "execute_result"
    }
   ],
   "source": [
    "vector.fit(X_train)"
   ]
  },
  {
   "cell_type": "code",
   "execution_count": 22,
   "metadata": {},
   "outputs": [],
   "source": [
    "X_train_vector = vector.transform(X_train)\n",
    "X_test_vector = vector.transform(X_test)"
   ]
  },
  {
   "cell_type": "code",
   "execution_count": 23,
   "metadata": {},
   "outputs": [
    {
     "data": {
      "text/plain": [
       "<20000x26834 sparse matrix of type '<class 'numpy.int64'>'\n",
       "\twith 1695507 stored elements in Compressed Sparse Row format>"
      ]
     },
     "execution_count": 23,
     "metadata": {},
     "output_type": "execute_result"
    }
   ],
   "source": [
    "X_train_vector"
   ]
  },
  {
   "cell_type": "markdown",
   "metadata": {},
   "source": [
    "# SCALER DATA\n",
    "    -Mise à l'échelle ou noramalisation de données"
   ]
  },
  {
   "cell_type": "code",
   "execution_count": 48,
   "metadata": {},
   "outputs": [],
   "source": [
    "import pandas as pd\n",
    "from sklearn import metrics\n",
    "\n",
    "from sklearn import preprocessing\n",
    "from sklearn.preprocessing import MaxAbsScaler\n",
    "from sklearn.preprocessing import StandardScaler"
   ]
  },
  {
   "cell_type": "code",
   "execution_count": 54,
   "metadata": {},
   "outputs": [],
   "source": [
    "transformer = MaxAbsScaler().fit(X_train_vector)"
   ]
  },
  {
   "cell_type": "code",
   "execution_count": 55,
   "metadata": {},
   "outputs": [],
   "source": [
    "transformer_Xtrain = transformer.transform(X_train_vector)"
   ]
  },
  {
   "cell_type": "code",
   "execution_count": 56,
   "metadata": {},
   "outputs": [
    {
     "name": "stdout",
     "output_type": "stream",
     "text": [
      "  (0, 540)\t0.14285714285714285\n",
      "  (0, 772)\t1.0\n",
      "  (0, 824)\t0.14285714285714285\n",
      "  (0, 1692)\t0.2\n",
      "  (0, 2325)\t0.25\n",
      "  (0, 3176)\t0.4\n",
      "  (0, 4421)\t0.5\n",
      "  (0, 4744)\t0.25\n",
      "  (0, 5002)\t0.3333333333333333\n",
      "  (0, 5033)\t0.2\n",
      "  (0, 5609)\t0.5\n",
      "  (0, 5624)\t0.3333333333333333\n",
      "  (0, 6106)\t0.25\n",
      "  (0, 6793)\t0.3333333333333333\n",
      "  (0, 8173)\t0.18181818181818182\n",
      "  (0, 8893)\t0.25\n",
      "  (0, 8932)\t0.16666666666666666\n",
      "  (0, 9634)\t0.5\n",
      "  (0, 9982)\t0.07142857142857142\n",
      "  (0, 10479)\t0.08333333333333333\n",
      "  (0, 11270)\t0.08333333333333333\n",
      "  (0, 11789)\t0.1\n",
      "  (0, 13320)\t0.3333333333333333\n",
      "  (0, 14134)\t0.25\n",
      "  (0, 14200)\t1.0\n",
      "  :\t:\n",
      "  (19999, 23625)\t0.25\n",
      "  (19999, 23688)\t0.5\n",
      "  (19999, 23935)\t0.5\n",
      "  (19999, 24033)\t0.2\n",
      "  (19999, 24181)\t0.07142857142857142\n",
      "  (19999, 24260)\t0.3333333333333333\n",
      "  (19999, 24296)\t1.0\n",
      "  (19999, 24384)\t0.25\n",
      "  (19999, 24408)\t0.14285714285714285\n",
      "  (19999, 24710)\t0.2\n",
      "  (19999, 24900)\t1.0\n",
      "  (19999, 24955)\t0.2\n",
      "  (19999, 25095)\t0.5\n",
      "  (19999, 25635)\t1.0\n",
      "  (19999, 25671)\t0.3333333333333333\n",
      "  (19999, 25708)\t0.3333333333333333\n",
      "  (19999, 26013)\t0.3333333333333333\n",
      "  (19999, 26039)\t0.5\n",
      "  (19999, 26141)\t0.3333333333333333\n",
      "  (19999, 26477)\t0.125\n",
      "  (19999, 26483)\t0.5714285714285714\n",
      "  (19999, 26600)\t0.25\n",
      "  (19999, 26602)\t0.3333333333333333\n",
      "  (19999, 26716)\t0.2\n",
      "  (19999, 26719)\t0.1\n"
     ]
    }
   ],
   "source": [
    "print(transformer_Xtrain)"
   ]
  },
  {
   "cell_type": "code",
   "execution_count": 57,
   "metadata": {},
   "outputs": [
    {
     "data": {
      "text/plain": [
       "<20000x26834 sparse matrix of type '<class 'numpy.float64'>'\n",
       "\twith 1695507 stored elements in Compressed Sparse Row format>"
      ]
     },
     "execution_count": 57,
     "metadata": {},
     "output_type": "execute_result"
    }
   ],
   "source": [
    "transformer_Xtrain"
   ]
  },
  {
   "cell_type": "markdown",
   "metadata": {},
   "source": [
    "# FIRST MODEL Logistic Regression\n",
    "    Mise en place d'unn modèle de regression logistique "
   ]
  },
  {
   "cell_type": "code",
   "execution_count": 67,
   "metadata": {},
   "outputs": [],
   "source": [
    "#Accuracy using Logistic Regression Model\n",
    "Log_Reg = LogisticRegression()"
   ]
  },
  {
   "cell_type": "code",
   "execution_count": 68,
   "metadata": {},
   "outputs": [
    {
     "data": {
      "text/plain": [
       "LogisticRegression()"
      ]
     },
     "execution_count": 68,
     "metadata": {},
     "output_type": "execute_result"
    }
   ],
   "source": [
    "Log_Reg.fit(transformer_Xtrain, y_train)"
   ]
  },
  {
   "cell_type": "markdown",
   "metadata": {},
   "source": []
  },
  {
   "cell_type": "markdown",
   "metadata": {},
   "source": [
    "### PREDICTION"
   ]
  },
  {
   "cell_type": "code",
   "execution_count": 69,
   "metadata": {},
   "outputs": [],
   "source": [
    "y_prediction= Log_Reg.predict(X_test_vector)"
   ]
  },
  {
   "cell_type": "code",
   "execution_count": 70,
   "metadata": {},
   "outputs": [
    {
     "name": "stdout",
     "output_type": "stream",
     "text": [
      "[0 1 0 ... 1 0 1]\n"
     ]
    }
   ],
   "source": [
    "print(y_prediction)"
   ]
  },
  {
   "cell_type": "code",
   "execution_count": 71,
   "metadata": {},
   "outputs": [
    {
     "name": "stdout",
     "output_type": "stream",
     "text": [
      "\n",
      "Logistic Regression\n",
      "Accuracy Score: 87.14%\n"
     ]
    }
   ],
   "source": [
    "print('\\nLogistic Regression')\n",
    "print('Accuracy Score: ',metrics.accuracy_score(y_test,y_prediction)*100,'%',sep='')"
   ]
  },
  {
   "cell_type": "markdown",
   "metadata": {},
   "source": [
    "### CONFUSION MATRIX"
   ]
  },
  {
   "cell_type": "code",
   "execution_count": 72,
   "metadata": {},
   "outputs": [
    {
     "name": "stdout",
     "output_type": "stream",
     "text": [
      "Confusion Matrix: \n",
      "[[2162  276]\n",
      " [ 367 2195]]\n"
     ]
    }
   ],
   "source": [
    "print('Confusion Matrix: ',metrics.confusion_matrix(y_test,y_prediction), sep = '\\n')"
   ]
  },
  {
   "cell_type": "code",
   "execution_count": 64,
   "metadata": {},
   "outputs": [
    {
     "data": {
      "image/png": "[encoded data removed]",
      "text/plain": [
       "<Figure size 432x288 with 2 Axes>"
      ]
     },
     "metadata": {
      "needs_background": "light"
     },
     "output_type": "display_data"
    }
   ],
   "source": [
    "confus_matrix = confusion_matrix(y_test, y_prediction)\n",
    "disp = ConfusionMatrixDisplay(confusion_matrix=confus_matrix, display_labels=['Positif', 'Negatif'])\n",
    "disp.plot()\n",
    "plt.show()"
   ]
  },
  {
   "cell_type": "markdown",
   "metadata": {},
   "source": [
    "# 2rd MODEL"
   ]
  },
  {
   "cell_type": "markdown",
   "metadata": {},
   "source": [
    "# TEST MODEL LG"
   ]
  },
  {
   "cell_type": "code",
   "execution_count": 65,
   "metadata": {},
   "outputs": [
    {
     "name": "stdout",
     "output_type": "stream",
     "text": [
      "Le model à prédict que votre commentaire est  Positive\n"
     ]
    }
   ],
   "source": [
    "test = []\n",
    "test.append(input())\n",
    "test_vect = vector.transform(test)\n",
    "predLabel = Log_Reg.predict(test_vect)\n",
    "tags = ['Negative','Positive']\n",
    "print(\"Le model à prédict que votre commentaire est \",tags[predLabel[0]])"
   ]
  },
  {
   "cell_type": "code",
   "execution_count": null,
   "metadata": {},
   "outputs": [],
   "source": []
  }
 ],
 "metadata": {
  "kernelspec": {
   "display_name": "Python 3.8.8 ('base')",
   "language": "python",
   "name": "python3"
  },
  "language_info": {
   "codemirror_mode": {
    "name": "ipython",
    "version": 3
   },
   "file_extension": ".py",
   "mimetype": "text/x-python",
   "name": "python",
   "nbconvert_exporter": "python",
   "pygments_lexer": "ipython3",
   "version": "3.8.8"
  },
  "orig_nbformat": 4,
  "vscode": {
   "interpreter": {
    "hash": "c4640ecfcdac73944bae5ed2c2b8fdc6705e71d3ca5967fcca80e7a8f6bed7c0"
   }
  }
 },
 "nbformat": 4,
 "nbformat_minor": 2
}
